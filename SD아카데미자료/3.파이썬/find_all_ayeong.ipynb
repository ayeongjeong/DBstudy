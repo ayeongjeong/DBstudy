{
  "nbformat": 4,
  "nbformat_minor": 0,
  "metadata": {
    "colab": {
      "name": "find_all.ipynb",
      "provenance": []
    },
    "kernelspec": {
      "name": "python3",
      "display_name": "Python 3"
    }
  },
  "cells": [
    {
      "cell_type": "code",
      "metadata": {
        "id": "Do6wtXiqwEF5",
        "colab_type": "code",
        "colab": {}
      },
      "source": [
        "import requests \n",
        "from bs4 import BeautifulSoup"
      ],
      "execution_count": 0,
      "outputs": []
    },
    {
      "cell_type": "markdown",
      "metadata": {
        "id": "QfQyFu3ewMQx",
        "colab_type": "text"
      },
      "source": [
        "##최소 10개 서로 다른 사이트 뉴스기사 scraping"
      ]
    },
    {
      "cell_type": "markdown",
      "metadata": {
        "id": "rlA_ebC5zkOg",
        "colab_type": "text"
      },
      "source": [
        "1. AI부터 통신 정책까지…총선 IT 공약 톺아보기"
      ]
    },
    {
      "cell_type": "code",
      "metadata": {
        "id": "c2cYdAjRwM-P",
        "colab_type": "code",
        "colab": {
          "base_uri": "https://localhost:8080/",
          "height": 55
        },
        "outputId": "63370e0b-e714-44f1-a035-1fe7f93267ec"
      },
      "source": [
        "# NewsArticle\n",
        "blotter = requests.get('http://www.bloter.net/archives/377894')\n",
        "blotter = BeautifulSoup(blotter.content, 'html.parser')\n",
        "blotter_data = blotter.find_all('div', class_='article--content')\n",
        "blotter_data[0].get_text().strip()"
      ],
      "execution_count": 105,
      "outputs": [
        {
          "output_type": "execute_result",
          "data": {
            "text/plain": [
              "\"제21대 국회의원선거가 코앞으로 다가왔다. 코로나19, 위성정당 논란 등이 총선 정국을 휩쓸면서 정책에 대한 논의는 찾아보기 힘들다는 지적이 쏟아진다. IT 정책도 마찬가지.\\xa0어떤 정당이 어떤 IT정책을 강조하는지 IT분야 종사자들 조차 모르는 경우가 많다.하지만 코로나19로 갑작스레 찾아온 비대면 시대로의 전환 속에 정책 측면에서 IT가 갖는 존재감은 점점 커지고 있다. 총선에 임하는\\xa0주요 정당들의 IT 정책 공약을 살펴봤다.| 제21대 국회의원선거가 4월15일 열린다. (사진=중앙선거관리위원회)AI 그리고 또 AI각 당은 인공지능(AI)을 IT 정책 주요 화두로 꺼냈다. 주로 AI 인재 양성, AI 전담 기관 설치 등이 거론되지만, 대부분 선언적인 내용에 그치며 정책의 구체성이 아쉽다. 지난해 12월 정부에서 발표한 ‘AI 국가전략’과 큰 차별성을 찾기도 힘들다.googletag.cmd.push(function() { googletag.defineSlot('/6357468/0.Mobile_Article_intext_1_300_250', [300, 250], 'div-gpt-ad-1468307418602-0').addService(googletag.pubads());googletag.pubads().collapseEmptyDivs();googletag.pubads().enableSyncRendering();googletag.enableServices();googletag.display('div-gpt-ad-1468307418602-0'); });더불어민주당은 총선 공약 5대 핵심가치 중 가장 앞머리인 혁신 부분에 AI 관련 공약을 넣었다. “AI 기술 퍼스트 무버 코리아로 성장시키겠다”라며 AI 인력 양성에 초점을 맞췄다. ▲대학의 AI 학과 및 정원 확대 ▲AI 전문 고급 인력 양성 ▲AI 분야 고급인력의 병역 대체복무제도 개선 ▲AI 정책·전략 전담기관 및 주간 전문연구기관 설립 추진 ▲AI 스타트업에 대한 국내·외 민간 투자 환경 조성 ▲AI 기술 중심 고성능컴퓨팅 환경 지원 등이 주된 내용이다. 이와 함께 소프트웨어 인재 육성 및 지원 공약을 내세웠다.정의당은 10대 정책 중 8번째인 ‘사람이 있는 미래’ 부분에 AI 공약을 집어넣었다. AI 관련 윤리충돌 및 사회갈등 해소 기구를 설치한다는 내용이 눈에 띈다. ▲AI 관련 핵심기관 인공지능청 신설 ▲AI 산업 R&D 지원 ▲정부부처 및 공공기관 SW 관련 핵심보직 개방직 전환 ▲AI 관련 윤리충돌 및 사회갈등해소 담당 범정부 총괄 전담기구 신설 ▲엣지 컴퓨팅 및 초저전력·초저지연 기술 지원 강화 ▲오픈소스 활용 저변 확대 지원 등의 공약이 열거됐다. 또 오픈소스 산업 육성에 대한 내용을 별도 공약으로 내걸었다.국민의당은 AI 인재 100만명 양성 프로젝트 추진을 내세웠다. 1년에 10만 명씩 10년간 100만명의 AI 인재를 양성하겠다는 계획이다. 원내 제3당인 민생당 역시 AI, 로봇 등 인력수요가 많은 분야 지역별 인재양성을 공약으로 걸었다. 미래통합당은 AI에 대한 별도 공약 없이 4차 산업혁명을 키워드로 벤처기업에 대한 규제 개선 및 지원 정책을 강조했다.5G 비용 절감 vs 공공 와이파이가계 통신비 경감은 선거철 단골 공약 중 하나다. 이번 총선에서도 관련 정책이 쏟아져 나왔다. 하지만 이에 대해 접근하는 방식은 정당마다 다르다.더불어민주당은 직접적인 통신비 인하 정책 대신 공공 와이파이를 들고나왔다. 올해 전국 모든 시내버스, 학교 및 공공장소 등 총 1만7천여 곳에 공공 와이파이를 구축하고 2021년부터 2022년까지 총 3만6천여 개 공공 와이파이를 추가 구축하겠다는 계획이다. 무료 와이파이를 확대해 가계 통신비를 우회적으로 지원하겠다는 것으로, 정부의 공공 와이파이 정책과 궤를 같이한다.| 지난해 5G 첫 단말 삼성 갤럭시S10 5G(오른쪽)와 LG V50 씽큐미래통합당은 단말기호갱방지법을 발표했다. 현행 요금 인가제를 폐지해 통신사 간 요금 경쟁을 끌어내고, 통신사를 통해 단말기가 유통되는 방식이 아닌 단말기완전자급제를 도입하겠다는 내용이 골자다. 또 유무선 전화·인터넷 통신비 연말정산 소득공제 제도를 도입하겠다고 밝혔다.정의당은 5G 맞춤형 보편요금제를 약속했다. 이동통신 서비스를 보편적 서비스로 지정하는 보편요금제법을 추진해 5G에서도 월 2~3만원대에 10GB의 데이터를 보장하는 보편요금제를 의무화하겠다는 내용이다. 주파수 경매대가를 개선해 통신사의 요금 인하를 이끌겠다는 계획이다. 또 공공 와이파이를 10기가급 속도로 개선하겠다고 밝혔다.이와 함께 정의당은 망중립성 원칙을 법제화해 인터넷 종량제 시도를 차단하고 보편적 정보접근권을 확보하겠다고 발표했다. 또한, 특정 콘텐츠 사용 시 데이터 비용을 이용자가 아닌 콘텐츠 제공사업자(CP)나 이동통신사가 부담하는 제로레이팅 관련 규제 기준 마련하고, 망사용료 갈등의 중심이 되는 상호접속고시 정산 방식도 개선하겠다고 밝혔다.미디어를 바라보는 다른 시선미디어 분야에 대한 공약도 제각각이다. 더불어민주당은 미디어 산업 생태계 활성화, 미래통합당은 방송사 지배구조 규제 완화, 정의당은 미디어의 공적 기능과 책임을 강조했다.더불어민주당은 새로운 형태의 미디어 시장에 주목했다. 1인 크리에이터 및 MCN 지원·육성을 비롯해 국내 OTT의 글로벌 경쟁력 확보를 위한 콘텐츠 수출·유통 지원 강화 등 혁신 콘텐츠 활성화 지원을 공약으로 걸었다.또 미디어 시장의 공정 경쟁 기반을 조성하겠다고 발표했다. 국내 미디어기업 간 혹은 국내와 해외 미디어기업 간 부당한 수익 배분 등 불공정 거래행위 규제를 강화하고, 콘텐츠 사용료에 대한 ‘통합 대가 산정 기준’을 마련하겠다는 내용이다. 글로벌 콘텐츠·플랫폼사업자의 책임 강화 및 역차별 개선도 언급했다. 또한, 현재 과기정통부, 방송통신위원회, 문체부 등으로 분산된 미디어 정책 부서를 통합해 미디어 콘텐츠를 진흥하겠다고 밝혔다.미래통합당은 기존 방송사 지배구조 규제 완화에 초점을 맞췄다. 대기업의 방송사 소유 지분 제한을 기존 10%에서 30%로 완화하고 대기업의 기준을 자산총액 10조원에서 20조원으로 상향하겠다는 내용이다. 대기업의 방송 소유를 보다 쉽게 해 글로벌 경쟁력을 확보하겠다는 얘기다. 또 공영방송 지배구조 개선, 방송통신심의위원회 폐지 및 뉴미디어위원회 신설 등을 공약으로 걸었다. 현행 방송 체계가 편파적이라는 인식이다. 민생당도 공영방송 지배구조 개선을 언급했다.정의당은 미디어 개혁을 추진하겠다고 밝혔다. 구체적인 안을 얘기하진 않았지만, 당내 ‘미디어개혁특위’를 설치해 시민사회 및 전문가들과 함께 입법과제를 도출하겠다는 계획이다. 또 표현의 자유 확대, 미디어 리터러시, 혐오표현 대응, 성평등 미디어 등을 언급하며 미디어의 공적 책임성 등을 강조했다.또 공영방송과 관련해 공영방송 이사회에 지역별 대표를 포함하고, 성별 다양성을 강화하는 법률 개정을 추진하겠다고 밝혔다. 케이블TV 등 유료방송 사업자에 대한 지역성 구현 책무도 강조했다. 방송계 비정규직 노동자 처우 개선에 대한 공약도 포함됐다.스마트 제조혁신·벤처·게임이 밖에도 더불어민주당은 스마트 제조혁신을 말했다. AI·5G 기술 기반 스마트공장을 확대해 제조업 경쟁력을 높이겠다는 공약이다. 2022년까지 10인 이상 중소제조업체에 스마트공장 3만개를 보급하고, 2030년까지 전체 6만7천개 스마트공장을 만들겠다는 계획이다. 또 서비스업에도 IT 기술을 도입하고, 소상공인의 IT 기술 활용 역량을 높이는 등 스마트 서비스, 스마트 상점을 확대하겠다고 밝혔다.미래통합당은 규제 개선을 통해 벤처 기업 생태계를 활성화하고, 히든 챔피언 기업 500개를 육성하겠다고 밝혔다. 또 현행 규제샌드박스, 규제프리존법을 넘어서는 규제 개혁을 통해 일자리 100만개를 창출하겠다고 공약했다. 미세먼지 ICT 모니터링 체계 도입, 독신 노인·중증장애인 스마트 밴드 보급 등 생활 밀착형 IT 정책을 발표하기도 했다.정의당은 게임 산업에 대한 별도 공약을 발표했다. IT 및 게임 업계 노동환경 개선, 중소게임사 지원 및 게임시장 다양화 등 크게 두 가지 내용이다. IT·게임 종사자 노동 환경 개선 방안은 장시간 노동의 원인으로 지적받는 포괄임금제 및 특별연장근로 폐지가 골자다. 또 노동부의 IT 분야 근로감독 역량을 높이겠다는 방침이다. 중소 게임사 지원을 위해서는 정부 모태펀드 게임 분야 출자액을 300억원으로 2배 늘리고, 구글플레이 및 앱스토어에서 중소 개발사에 한해 수수료율 인하를 추진하겠다고 밝혔다.\""
            ]
          },
          "metadata": {
            "tags": []
          },
          "execution_count": 105
        }
      ]
    },
    {
      "cell_type": "code",
      "metadata": {
        "id": "DeRxa6ryDQEH",
        "colab_type": "code",
        "colab": {
          "base_uri": "https://localhost:8080/",
          "height": 35
        },
        "outputId": "87f32518-9975-46aa-9634-f114193b55e4"
      },
      "source": [
        "# NewsTitle\n",
        "title=blotter.find_all(class_='headline')\n",
        "print(title[0].get_text())"
      ],
      "execution_count": 90,
      "outputs": [
        {
          "output_type": "stream",
          "text": [
            "AI부터 통신 정책까지…총선 IT 공약 톺아보기\n"
          ],
          "name": "stdout"
        }
      ]
    },
    {
      "cell_type": "markdown",
      "metadata": {
        "id": "uPHfNP2hzwB0",
        "colab_type": "text"
      },
      "source": [
        "2. 클라우드 보안 위협, ‘설정 오류’를 노린다"
      ]
    },
    {
      "cell_type": "code",
      "metadata": {
        "id": "u0Yir0Rmw9ut",
        "colab_type": "code",
        "colab": {
          "base_uri": "https://localhost:8080/",
          "height": 55
        },
        "outputId": "935e8603-1084-43e3-a75f-72c12327f269"
      },
      "source": [
        "# NewsArticle\n",
        "nextdaily = requests.get('http://www.nextdaily.co.kr/news/article.html?id=20200415800001')\n",
        "nextdaily = BeautifulSoup(nextdaily.content, 'html.parser')\n",
        "nextdaily_data = nextdaily.find_all('div', class_='con_box')\n",
        "nextdaily_data[0].get_text().strip()"
      ],
      "execution_count": 93,
      "outputs": [
        {
          "output_type": "execute_result",
          "data": {
            "text/plain": [
              "\"가트너(Gartner)는 2021년까지 중견 및 대기업의 75% 이상이 멀티 클라우드 또는 하이브리드 IT 전략을 채택할 것으로 전망했다. 조직 내 IT 및 데브옵스 팀은 클라우드 플랫폼이 보편화됨에 따라, 클라우드 인스턴스 보안과 관련된 추가적인 고려사항 및 불확실성에 직면하게 되었다. 사이버 범죄 조직은 설정 오류나 잘못 관리되고 있는 클라우드 환경을 악용하여 이익을 얻으려 하고 있다.\\n\\n사이버 보안 글로벌 기업 트렌드마이크로(지사장 김진광)가 ‘클라우드 보안 위협(Untangling the Web of Cloud Security Threats)' 보고서를 발표했다. 본 보고서는 광범위한 사이버 공격의 빌미를 제공할 수 있는 인적 오류 및 복잡한 구축에 관한 상세한 내용을 다루고 있다.\\n\\n보고서는 ‘설정 오류(misconfigurations)’가 클라우드 보안 문제의 주요 원인을 확인했다. 실제로 트렌드마이크로 클라우드 원 콘포미티(Trend Micro Cloud One – Conformity)는 매일 평균 2억 3천만 건의 설정 오류를 식별했으며, 관련된 리스크가 보편화되고 광범위하게 확산되고 있음을 입증했다.\\n\\n이번 연구는 크리덴셜 및 기업 기밀을 위험에 빠뜨릴 수 있는 클라우드 기반 컴퓨팅의 핵심 영역에서 위협과 보안 취약점을 발견했다. 설정 오류를 악용하는 범죄자들은 랜섬웨어, 암호화, 전자 스키밍(e-skiming) 및 데이터 유출 대상 기업들을 공격 목표로 삼은 것으로 확인됐다.\\n\\n잘못된 온라인 튜토리얼은 일부 기업의 잘못된 클라우드 자격 증명 및 인증서 관리로 이어질 위험을 가중시켰다. 보고서에 따르면, 조직 내 IT 팀이 클라우드 네이티브 툴을 활용하여 위험요소를 완화할 수 있지만, 툴에만 의존해서는 안 되는 것으로 나타났다.\\n\\n\\n<이미지제공=게티이미지뱅크>\\n 트렌드마이크로는 안전한 클라우드를 구축하려면 ▲최소한의 권한 통제로 필요한 사람에게만 액세스를 제한하고 ▲ 클라우드 제공업체는 빌트인 보안 기능을 갖추고 있지만, 자체 데이터에 대한 책임은 고객에게 있는 공유 책임 모델의 이해, ▲설정 오류 및 노출된 시스템 모니터링으로 콘포미티와 같은 툴은 클라우드 환경에서 설정 오류를 빠르고 쉽게 식별하고, ▲데브옵스 문화와 보안을 통합해야 한다.\\n\\n그렉 영(Greg Young) 트렌드마이크로 사이버 보안 부문 부회장은 “클라우드 마이그레이션은 기업 IT 경계와 엔드 포인트를 재정의하여 보안 문제를 해결할 수 있는 가장 좋은 방법이다. 그러나 이는 조직이 클라우드 보안에 대한 공유된 책임 모델을 따르고 있을 경우에만 해당한다”며 “데이터 보호를 위해 클라우드 데이터의 오너십(ownership)을 가지는 것이 무엇보다 중요하다”고 말했다.\\n\\n이향선기자 hslee@nextdaily.co.kr\""
            ]
          },
          "metadata": {
            "tags": []
          },
          "execution_count": 93
        }
      ]
    },
    {
      "cell_type": "code",
      "metadata": {
        "id": "h2MrY062DcLY",
        "colab_type": "code",
        "colab": {
          "base_uri": "https://localhost:8080/",
          "height": 35
        },
        "outputId": "a1435221-584a-4b6c-ac58-bd9d4e9ca624"
      },
      "source": [
        "# NewsTitle\n",
        "title=nextdaily.find_all(class_='v_tit')\n",
        "print(title[0].get_text())"
      ],
      "execution_count": 89,
      "outputs": [
        {
          "output_type": "stream",
          "text": [
            "클라우드 보안 위협, ‘설정 오류’를 노린다\n"
          ],
          "name": "stdout"
        }
      ]
    },
    {
      "cell_type": "markdown",
      "metadata": {
        "id": "3322vtdv0ixO",
        "colab_type": "text"
      },
      "source": [
        "3. 민주당 압승에 1호 공약 ‘공공 와이파이' 주목…눈치보는 이통사"
      ]
    },
    {
      "cell_type": "code",
      "metadata": {
        "id": "igK71R5q0TQd",
        "colab_type": "code",
        "colab": {
          "base_uri": "https://localhost:8080/",
          "height": 55
        },
        "outputId": "a653726c-8556-4e8b-e333-48aae78a961b"
      },
      "source": [
        "# NewsArticle\n",
        "itchosun = requests.get('http://it.chosun.com/site/data/html_dir/2020/04/16/2020041601212.html')\n",
        "itchosun = BeautifulSoup(itchosun.content,'html.parser')\n",
        "itchosun_data = itchosun.find_all('div', class_='par')\n",
        "itchosun_data[0].get_text()+itchosun_data[1].get_text()"
      ],
      "execution_count": 37,
      "outputs": [
        {
          "output_type": "execute_result",
          "data": {
            "text/plain": [
              "'실효성 논란 속 전국 무료 와이파이 구현되나통신사, 막대한 비용 부담에 ‘촉각’21대 국회의원 선거에서 더불어민주당이 압승하며, 1호 공약인 ‘공공 무료 와이파이 확대’에도 속도가 붙을 전망이다. 공약의 실효성 논란은 해결해야 할 숙제다.업계에서는 무료 와이파이 증대 효과가 제한적일 것이란 평가도 나오기 때문이다. 5만3000여개 와이파이 규모만으로는 효과가 미미하다는 것이다. 2019년 말 발표된 입법정책보고서에 따르면 2017년 말 기준 상용 와이파이는 37만6211개이다.더불어민주당은 2020년 ▲시내버스 5100대 ▲학교 5300여개소 ▲교통시설 2000개 ▲문화·체육·관광시설1000개소 ▲보건·복지시설 3600개소, 총 1만7000여곳에 공공와이파이를 구축한다는 계획을 세웠다.2021년부터 2022년까지는 총 3만6000개 공공와이파이를 마련한다. 2021년 전국 모든 마을버스에서, 2022년 전국 버스정류장‧터미널‧철도역에서 공공와이파이를 이용할 수 있도록 하는 것이 목표다. 3년간 투입될 예상 비용은 5780억원이다. 와이파이는 시간이 지나면 고장 등 유지·보수가 필요하다. 유지보수 비용까지 계산하면 민주당이 추산한 예산이 부족하다는 우려도 있다. 줄어드는 와이파이 사용량도 지적을 받는다. 과학기술정보통신부 통계정보에 따르면 월간 와이파이 트래픽도 최근 감소 추세다. 2019년 10월 1만6164TB에서 올해 2월 1만1478TB로 줄었다.공공 와이파이 구축 비용 분담은 이통사들에도 민감한 문제다. 이통업계 관계자는 아직 구체적인 방식이 정해지지 않은 만큼 섣불리 입장을 밝히기 꺼리는 분위기다. 이통업계 관계자는 \"통신사업자는 정부의 정책에 순응할 수밖에 없는 입장이다\"며 \"다만, 합리적인 방식으로 정책이 추진됐으면 하는 바람은 있다\"고 말했다.또 다른 업계 관계자도 \"아직은 입찰방식, 공동구축 형태로 갈지 정해지지도 않은 상황에서 언급이 어렵다\"며 \"정책의 방향성을 지켜보고 있다\"고 말했다.류은주 기자 riswell@chosunbiz.com '"
            ]
          },
          "metadata": {
            "tags": []
          },
          "execution_count": 37
        }
      ]
    },
    {
      "cell_type": "code",
      "metadata": {
        "id": "OzFXVOAW1Wbj",
        "colab_type": "code",
        "colab": {
          "base_uri": "https://localhost:8080/",
          "height": 35
        },
        "outputId": "5336e77b-ee8d-4ca1-cb8a-cc8cb6288685"
      },
      "source": [
        "# NewsTitle\n",
        "title=itchosun.find_all(id='news_title_text_id')\n",
        "print(title[0].get_text())"
      ],
      "execution_count": 36,
      "outputs": [
        {
          "output_type": "stream",
          "text": [
            "민주당 압승에 1호 공약 ‘공공 와이파이' 주목…눈치보는 이통사\n"
          ],
          "name": "stdout"
        }
      ]
    },
    {
      "cell_type": "markdown",
      "metadata": {
        "id": "CZ_prQUa3huf",
        "colab_type": "text"
      },
      "source": [
        "4. '글로벌 표준 용어'로 의료 빅데이터 돕는다"
      ]
    },
    {
      "cell_type": "code",
      "metadata": {
        "id": "a01l5jaF2hR-",
        "colab_type": "code",
        "colab": {
          "base_uri": "https://localhost:8080/",
          "height": 55
        },
        "outputId": "76a91d7a-e5d6-4c94-e758-3990f4cd85df"
      },
      "source": [
        "# NewsArticle\n",
        "etnews = requests.get('https://www.etnews.com/20200415000074?mc=ns_002_00001')\n",
        "etnews = BeautifulSoup(etnews.content,'html.parser')\n",
        "etnews_data = etnews.find_all('section', class_='article_body')\n",
        "etnews_data[0].get_text().strip()"
      ],
      "execution_count": 94,
      "outputs": [
        {
          "output_type": "execute_result",
          "data": {
            "text/plain": [
              "'복지부 \\'스노메드 씨티\\' 도입 예산 확보보건의료정보원서 세부 실행 업무 담당\"의료 고도화·상호 운용성 충족\" 환영10년간 개발 \\'코스톰\\' 연계·활용 숙제\\n정부가 의료 용어의 글로벌 표준을 도입해 의료 빅데이터 확산에 나선다. 정부가 세계 80여개국에서 활용하고 있는 표준 임상용어 체계 \\'스노메드 씨티\\'(SNOMED CT) 라이선스를 직접 구매해 의료계에 공급한다.\\n\\n15일 정부에 따르면 보건복지부는 의료 빅데이터 활성화를 위해 글로벌 표준의료용어체계인 스노메드 씨티 라이선스 예산을 확보하고 올해 본격 적용을 위한 준비 작업에 들어갔다. 올해 출범한 한국보건의료정보원이 스노메드 씨티 활용 등 세부 실행 업무를 담당할 것으로 전망된다.\\n\\n표준의료용어체계 확립은 그동안 의료정보 분야에서 꾸준하게 제기해 온 숙원 사업이다. 기존에도 한국의료표준용어(KOSTOM·코스톰)가 있었지만 의료 현장에서는 제대로 활용되지 못했다. 코스톰이 보건의료에 사용되는 모든 용어를 개념 단위로 정리하고 코드를 부여하는 데 그쳤기 때문이다. 질병, 병균, 장비 등 의료 행위와 관련한 것에 대해 의료인 스스로 분류해야 하는 등 양질의 의료데이터를 쌓기 어려웠다.\\n\\n스노메드 씨티는 자동 매핑 기능을 갖췄을 뿐만 아니라 분류 체계가 다양하다. 실제로 환자 상태에 따른 의료 행위에 따라 9가지 세분화된 질병에 해당하는 의료 행위를 할 수 있다. 의료진은 자동 매핑되는 시스템을 선택하면 된다. 축적된 데이터를 바탕으로 질병에 따라 어떤 약을 처방했는지 빅데이터로 활용할 수 있는 등 의료 행위 고도화가 가능하다. 이들 체계는 세계 80여개국이 활용하는 국제 표준으로, 국가 데이터 교환 등에도 용이하다.\\n\\n박현애 대한의료정보학회장은 “현재 국내에서 기록하는 의료 행위는 다양한 수술 행위, 처방 등이 큰 단위로 묶여 있어 데이터 활용에 한계가 있다”면서 “스노메드 씨티는 다양한 영역의 용어를 구조화해서 입력할 뿐만 아니라 처방 단위까지도 분류가 가능하다”고 말했다.\\n\\n대형병원 임상의사도 의료데이터 상호운용성 확보를 위해 스노메드 씨티 도입의 필요성에 공감한다.\\n국내 대학병원 의사는 “현재 사용하는 의료 표준은 의료진이나 환자를 위한 상호 운용성을 염두에 둔 것이 아니라 보험수가 코드와 매칭돼 진료비를 청구하기 위한 성격이 짙다”면서 “스노메드 씨티는 파생되는 콘텐츠를 트리 구조로 나타내 다변적으로 환자를 표현할 수 있고, 용어를 통일하기만 해도 상호 운용성이 상당 부분 충족된다”고 설명했다.\\n\\n또 다른 병원 관계자는 “기존 의료분류 표준은 임상적으로 쓰는 데 한계가 있다”면서 “스노메드 씨티 도입이 의료정보 표준화와 의료정보 교류 측면에서 발전이라고 본다”고 환영했다.\\n\\n스노메드 씨티 도입으로 표준의료용어체계가 모두 끝나는 것은 아니다. 의료계 현장에서는 여전히 각기 다른 의료 표준으로 전자의무기록(EMR)을 활용하고 있어 조정이 필요하다. 정부가 10년 동안 개발·발전시켜 온 코스톰과의 연계·활용 방안도 고민해야 한다.\\n\\n보건복지부 관계자는 “라이선스를 구매해 임상병원에서 어떻게 활용 가능할 것인지 유즈 케이스를 만드는 등 전문가 의견을 모아 활용 방안을 계획할 예정으로, 당장 국가 표준으로 하겠다는 것은 아니다”라면서 “지난 10년 동안 개발한 코스톰 등과 어떻게 연계할 것인지 등 활용 방안 마련에 중점을 두고 있다”고 말했다.\\n\\n정영일기자 jung01@etnews.com, 정현정기자 iam@etnews.com\\n\\n\\n기자의 다른 기사 보기 기자의 다른 기사 보기'"
            ]
          },
          "metadata": {
            "tags": []
          },
          "execution_count": 94
        }
      ]
    },
    {
      "cell_type": "code",
      "metadata": {
        "id": "pM19O1tx4VmE",
        "colab_type": "code",
        "colab": {
          "base_uri": "https://localhost:8080/",
          "height": 35
        },
        "outputId": "4e18bbbc-7edf-4fd6-c907-b16e517827d8"
      },
      "source": [
        "# NewsTitle\n",
        "title=etnews.find_all(class_='article_title')\n",
        "print(title[0].get_text())"
      ],
      "execution_count": 39,
      "outputs": [
        {
          "output_type": "stream",
          "text": [
            "'글로벌 표준 용어'로 의료 빅데이터 돕는다\n"
          ],
          "name": "stdout"
        }
      ]
    },
    {
      "cell_type": "markdown",
      "metadata": {
        "id": "4Wxn1sIx4yN-",
        "colab_type": "text"
      },
      "source": [
        "5. 수수료 없는 ‘114 배달앱’ 등장…‘배민’ 대항마 되나"
      ]
    },
    {
      "cell_type": "code",
      "metadata": {
        "id": "Kve-vkjw4wbh",
        "colab_type": "code",
        "colab": {
          "base_uri": "https://localhost:8080/",
          "height": 55
        },
        "outputId": "8cb1296b-e225-43db-a3eb-789b750fe5f8"
      },
      "source": [
        "# NewsArticle\n",
        "kmib = requests.get('http://news.kmib.co.kr/article/view.asp?arcid=0014472961&code=61151411&sid1=inf')\n",
        "kmib = BeautifulSoup(kmib.content,'html.parser')\n",
        "kmib_data = kmib.find_all('div', class_='tx')\n",
        "kmib_data[0].get_text().strip()"
      ],
      "execution_count": 95,
      "outputs": [
        {
          "output_type": "execute_result",
          "data": {
            "text/plain": [
              "'번호안내 114 서비스를 제공하는 KT CS가 수수료 없는 음식 배달 애플리케이션(앱)을 선보였다. 최근 광고 수수료로 논란이 되고 있는 ‘배달의민족’에 맞서 소비자들의 선택을 받을 수 있을지 주목된다.KT CS는 ‘콕콕114’ 앱을 통해 배달음식점 전화번호를 수수료 없이 안내하는 ‘K배달’ 서비스를 리뉴얼했다고 13일 밝혔다. 앱을 열고 메인 화면에서 ‘K배달’을 누르면 ‘치킨’, ‘중국집’, ‘한식/분식’, ‘찜/탕’ 등 메뉴별로 반경 3km 내의 업체 정보를 확인할 수 있다.사용자는 ‘전화연결’ 버튼을 눌러 업체에 직접 주문하고, 업체는 광고 수수료 없이 주문을 받을 수 있다. ‘콕콕114’는 국내 최대 규모인 번호안내114 DB를 기반으로, 총 4만여 건의 배달음식점 정보를 보유하고 있다.또 원하는 매장의 영업시간, 주소, 지도, 고객 후기도 확인할 수 있으며 ‘콕콕114’에 등록된 사업장은 메뉴, 영업시간 등 상세정보를 직접 올릴 수 있다.황성호 114플랫폼사업본부장은 “국내에서 최대 규모의 전화번호 DB를 보유하고 있어 소상공인과 앱 사용자 모두 편리하게 이용할 수 있다”며 “번호안내 114가 가진 정보 및 시스템을 활용해 소상공인을 지원할 방안을 지속적으로 모색해 나갈 계획”이라고 말했다.‘콕콕114’는 KT CS가 2015년 11월에 출시한 생활밀착형앱으로, 배달음식, 빅데이터 추천 맛집, 진료 중인 병원·약국 등 생활 정보를 제공한다. ‘번호안내 114’에서는 포털 사이트 및 내비게이션 등록 등 소상공인이 사업을 홍보할 수 있도록 돕는 서비스를 무료로 제공하고 있다.김성훈 기자 hunhun@kmib.co.kr'"
            ]
          },
          "metadata": {
            "tags": []
          },
          "execution_count": 95
        }
      ]
    },
    {
      "cell_type": "code",
      "metadata": {
        "id": "mUm9HuZV5n8h",
        "colab_type": "code",
        "colab": {
          "base_uri": "https://localhost:8080/",
          "height": 323
        },
        "outputId": "a223f3be-b008-4de4-9340-9e08d5a7d687"
      },
      "source": [
        "# NewsTitle\n",
        "title=kmib.find_all('div', class_='nwsti')\n",
        "print(title[0].get_text())"
      ],
      "execution_count": 97,
      "outputs": [
        {
          "output_type": "stream",
          "text": [
            "\n",
            "수수료 없는 ‘114 배달앱’ 등장…‘배민’ 대항마 되나\n",
            "\n",
            "입력 :  2020-04-13 14:19 \n",
            "\n",
            "\n",
            "\n",
            "트위터로 퍼가기\n",
            "페이스북으로 퍼가기\n",
            "구글로 퍼가기\n",
            "인쇄하기\n",
            "글자 크게\n",
            "글자 작게\n",
            "\n",
            "\n",
            "\n",
            "\n"
          ],
          "name": "stdout"
        }
      ]
    },
    {
      "cell_type": "markdown",
      "metadata": {
        "id": "xI4Ja_V763i_",
        "colab_type": "text"
      },
      "source": [
        "6. 뮤자인, 케이잡스와 ‘채용대행 서비스’ 업무협약 체결"
      ]
    },
    {
      "cell_type": "code",
      "metadata": {
        "id": "XWHX_Fc957VS",
        "colab_type": "code",
        "colab": {
          "base_uri": "https://localhost:8080/",
          "height": 73
        },
        "outputId": "8873f7d8-ee6f-4876-d611-73dc643bdbd4"
      },
      "source": [
        "# NewsArticle\n",
        "mydaily = requests.get('http://www.mydaily.co.kr/new_yk/html/read.php?newsid=202004161501483430')\n",
        "mydaily = BeautifulSoup(mydaily.content,'html.parser')\n",
        "mydaily_data = mydaily.find_all('div', class_='read_view_text')\n",
        "mydaily_data[0].get_text().strip()"
      ],
      "execution_count": 98,
      "outputs": [
        {
          "output_type": "stream",
          "text": [
            "Some characters could not be decoded, and were replaced with REPLACEMENT CHARACTER.\n"
          ],
          "name": "stderr"
        },
        {
          "output_type": "execute_result",
          "data": {
            "text/plain": [
              "'▲케이잡스 박선용 부사장(좌), 뮤자인 이호걸 대표이사 (사진=뮤자인)\\n\\n 인재채용시스템 ‘M-HRS‘ 을 통한 채용대행 서비스 지원  \\n\\r\\n 디지털 아티스트 컴퍼니 뮤자인은 지난 10일, 고용서비스 전문기업 케이잡스와 채용대행 서비스 사업 분야 확장을 위한 업무협약(MOU)을 맺었다고 밝혔다.\\n\\r\\n케이잡스는 사람과 일자리, 사람과 기업을 이어주는 고용서비스 전문 기업으로 취업성공패키지, 집단상담프로그램, 청년내일채움공제, 대학일자리센터, 전직지원 컨설팅, 기업/학교교육 컨설팅 등 다양한 채용 관련 사업을 운영하고 있다.\\n\\r\\n뮤자인과 케이잡스는 이번 업무 협약을 통해 기업에서 필요로 하는 직원 모집·홍보 및 선발의 과정을 One-Stop으로 제공하는 서비스를 공동사업으로 추진하며, 뮤자인(musign)의 인재 채용시스템 (M-HRS)을 활용해 관리자 니즈에 따라 맞춤형 프로그램을 지원할 계획이다. 또한 회계, 재무 시스템과 다양한 데이터 연동 이슈를 유연하게 대응하고 개인정보에 대한 기술적인 조치사항을 반영하는 등 다양한 서비스를 지원한다는 계획이다.\\n\\r\\n따라서 이번 협약을 통해 양사는 고유 역량을 바탕으로 직무능력 중심의 공정한 채용을 위한 사업을 추진할 수 있는 계기를 마련하게 됐다.\\n\\r\\n(주)뮤자인 이호걸 대표는 “이번 업무협약으로 일자리 창출에 기여할 수 있게 되어 기쁘다”며 “숨어있는 원석을 발굴할 수 있도록 기업 맞춤형 고용솔루션을 제공할 계획이며 지원자에게도 긍정적인 결과로 이어지기를 희망한다“라고 말했다.\\n여동은 기자 deyuh@mydaily.co.kr\\r\\n\\r\\n          - ⓒ마이데일리(www.mydaily.co.kr). 무단전재&재배포 금지 -'"
            ]
          },
          "metadata": {
            "tags": []
          },
          "execution_count": 98
        }
      ]
    },
    {
      "cell_type": "code",
      "metadata": {
        "id": "jnlO4cU77hgO",
        "colab_type": "code",
        "colab": {
          "base_uri": "https://localhost:8080/",
          "height": 35
        },
        "outputId": "a673be75-08e4-4a19-dfcb-133b9cc05a33"
      },
      "source": [
        "# NewsTitle\n",
        "title=mydaily.find_all('dt')\n",
        "print(title[0].get_text())"
      ],
      "execution_count": 65,
      "outputs": [
        {
          "output_type": "stream",
          "text": [
            "뮤자인, 케이잡스와 ‘채용대행 서비스’ 업무협약 체결\n"
          ],
          "name": "stdout"
        }
      ]
    },
    {
      "cell_type": "markdown",
      "metadata": {
        "id": "-i781npF8fLW",
        "colab_type": "text"
      },
      "source": [
        "7. 눈만 봐도 나이, 성별 아는 딥러닝 알고리즘 개발 外"
      ]
    },
    {
      "cell_type": "code",
      "metadata": {
        "id": "WPgdSuBg9-nu",
        "colab_type": "code",
        "colab": {
          "base_uri": "https://localhost:8080/",
          "height": 55
        },
        "outputId": "10aa7098-ef78-488e-bea8-9a34c816b073"
      },
      "source": [
        "# NewsArticle\n",
        "donga = requests.get('http://dongascience.donga.com/news.php?idx=36013')\n",
        "donga = BeautifulSoup(donga.content,'html.parser')\n",
        "donga_data = donga.find_all(id='article_body')\n",
        "donga_data[0].get_text().strip()"
      ],
      "execution_count": 99,
      "outputs": [
        {
          "output_type": "execute_result",
          "data": {
            "text/plain": [
              "'박상준 분당서울대병원 안과 교수. 분당서울대병원 제공\\n\\n\\n■박상준 분당서울대병원 안과 교수팀은 ‘망막안저사진’으로 나이와 성별을 예측하는 알고리즘을 개발했다고 14일 밝혔다. 망막안저사진은 동공을 통해 안구 내 구조물을 촬영한 사진이다. 연구팀은 분당서울대병원 건강검진센터에 축적된 41만22026장의 망막안저사진을 알고리즘에 학습시켰고, 그 결과 성별을 96% 정도의 정확도로 구분하는 데 성공했다. 연령의 경우도 평균 3.1세의 오차로 실제 연령을 파악했다. 이번 연구결과는 국제학술지 사이언티픽 리포츠 지난달 12일자에 게재됐다.\\xa0\\n\\n■김정현 한림대춘천성심병원 가정의학과 교수는 고혈압이나 당뇨병 등 만성질환자들은 평소 먹던 약이 떨어졌다면 병원 진료를 미뤄선 안된다고 14일 권고했다. 신종 코로나바이러스 감염증(COVID-19·코로나19)로 인해 임의로 약 복용을 중단하면 증상이 악화될 수 있다고 말했다. 국민안심병원을 이용하거나 ‘전화상담처방 및 대리처방’을 받아 치료를 이어 나가길 추천했다.\\xa0\\n\\n■연세대 의대는 2018년 의예과에 입학한 학생 119명 중 31명이 9개 학과에서 부전공을 이수 했다고 14일 밝혔다. 경영학과와 응용통계학과, 경제학과, 수학과, 문화인류학과 등 다양한 부전공을 이수한 것으로 나타났다. 2016년 1명, 2017년 2명에 비해 대폭 상승했다. 연대의대는 2018년부터 ‘의예과 부전공 맞춤형 교육과정’을 도입해 의학과 타 학문 간 융합형 인재 육성에 힘써왔다고 밝혔다.'"
            ]
          },
          "metadata": {
            "tags": []
          },
          "execution_count": 99
        }
      ]
    },
    {
      "cell_type": "code",
      "metadata": {
        "id": "nmGyJm9U-S4J",
        "colab_type": "code",
        "colab": {
          "base_uri": "https://localhost:8080/",
          "height": 737
        },
        "outputId": "fc8eb5df-5960-4384-fcec-af11dc317ecb"
      },
      "source": [
        "# NewsTitle\n",
        "title=donga.find_all(id='article_title')\n",
        "print(title[0].get_text())"
      ],
      "execution_count": 101,
      "outputs": [
        {
          "output_type": "stream",
          "text": [
            "\n",
            "\n",
            "[의학게시판] 눈만 봐도 나이, 성별 아는 딥러닝 알고리즘 개발 外\n",
            "\n",
            "2020.04.15 11:09\n",
            "\n",
            "이메일\n",
            "프린트\n",
            "가\n",
            "가\n",
            "\n",
            "\n",
            "\r\n",
            "        var captionFontSize = 1.3;\r\n",
            "        var contentsFontSize = 1.7;\r\n",
            "        function fnViewFont(op){\r\n",
            "\r\n",
            "            if(contentsFontSize >= 1.9 && op == '+'){\r\n",
            "                alert('본문 최대 크기입니다.');\r\n",
            "                return;\r\n",
            "            }\r\n",
            "\r\n",
            "            if(contentsFontSize <= 1.5 && op == '-'){\r\n",
            "                alert('본문 최소 크기입니다.');\r\n",
            "                return;\r\n",
            "            }\r\n",
            "\r\n",
            "            if(op == '+'){\r\n",
            "                contentsFontSize += 0.1;\r\n",
            "                captionFontSize += 0.1;\r\n",
            "            }else{\r\n",
            "                contentsFontSize -= 0.1;\r\n",
            "                captionFontSize -= 0.1;\r\n",
            "            }\r\n",
            "            $('#article_body p').css('font-size',(contentsFontSize)+'rem');\r\n",
            "            $('#article_body div').css('font-size',(captionFontSize)+'rem');\r\n",
            "        }\r\n",
            "    \n",
            "\n",
            "\n"
          ],
          "name": "stdout"
        }
      ]
    },
    {
      "cell_type": "markdown",
      "metadata": {
        "id": "n7Hq5rVI_Dl3",
        "colab_type": "text"
      },
      "source": [
        "8. 코웨이, 2020년형 '벽걸이 겸용 공기청정기' 출시"
      ]
    },
    {
      "cell_type": "code",
      "metadata": {
        "id": "5uGorjtp-hFr",
        "colab_type": "code",
        "colab": {
          "base_uri": "https://localhost:8080/",
          "height": 55
        },
        "outputId": "df7cbb5a-5e99-456a-f837-8e95ae0b3f56"
      },
      "source": [
        "# NewsArticle\n",
        "mbn = requests.get('https://www.mbn.co.kr/news/economy/4122288')\n",
        "mbn = BeautifulSoup(mbn.content, 'html.parser')\n",
        "mbn_data = mbn.find_all('div',class_='detail')\n",
        "mbn_data[0].get_text().strip()"
      ],
      "execution_count": 102,
      "outputs": [
        {
          "output_type": "execute_result",
          "data": {
            "text/plain": [
              "\"코웨이가 성능을 대폭 강화한 2020년형 ‘벽걸이 겸용 공기청정기’를 출시했습니다.\\n\\r\\n  기존 벽걸이 겸용 공기청정기와 비교해 가격은 동일하지만 성능을 대폭 강화했다는 설명입니다.\\n\\r\\n  구체적으로 이번 제품에는 에어매칭필터 서비스가 제공되는데, 이는 고객이 하트서비스, 즉 위생관리 서비스 이후 발송되는 알림톡에서 계절, 상황, 공간에 따라 필요한 필터를 선택하면 두 달마다 코\\ngoogletag.display('google_dfp_MC_250x250'); 디가 에어매칭필터를 교체 및 관리해 줍니다.\\n\\r\\n  특히 에어매칭필터는 총 3종으로 미세먼지집중필터, 이중탈취필터, 새집필터이다. 미세먼지에 예민한 집에서는 미세먼지집중필터를 새집 증후군이 걱정인 집에서는 새집필터, 냄새가 신경 쓰이는 집에서는 이중탈취필터 선택이 가능하다고 회사은강조합니다.\\n\\r\\n  [ 이상범 기자 / boomsang@daum.net ]\""
            ]
          },
          "metadata": {
            "tags": []
          },
          "execution_count": 102
        }
      ]
    },
    {
      "cell_type": "code",
      "metadata": {
        "id": "GHuvAMteANUq",
        "colab_type": "code",
        "colab": {
          "base_uri": "https://localhost:8080/",
          "height": 89
        },
        "outputId": "d5a109c9-7c50-415b-f1e6-c82b462414b8"
      },
      "source": [
        "# NewsTitle\n",
        "title=mbn.find_all('div',class_='box01')\n",
        "print(title[0].get_text())"
      ],
      "execution_count": 83,
      "outputs": [
        {
          "output_type": "stream",
          "text": [
            "\n",
            "뉴스 > 경제\n",
            "코웨이, 2020년형 '벽걸이 겸용 공기청정기' 출시\n",
            "\n"
          ],
          "name": "stdout"
        }
      ]
    },
    {
      "cell_type": "markdown",
      "metadata": {
        "id": "m7JIVOz_Asqm",
        "colab_type": "text"
      },
      "source": [
        "9. IMF, \"올해, 1930년대 대공항 이후 최악 경기침체 전망\""
      ]
    },
    {
      "cell_type": "code",
      "metadata": {
        "id": "xAKYNZdBAcfO",
        "colab_type": "code",
        "colab": {
          "base_uri": "https://localhost:8080/",
          "height": 55
        },
        "outputId": "2c90a622-13a0-4f3c-ef4e-0e4e7d105a9b"
      },
      "source": [
        "# NewsArticle\n",
        "bbs = requests.get('http://news.bbsi.co.kr/news/articleView.html?idxno=982915')\n",
        "bbs = BeautifulSoup(bbs.content, 'html.parser')\n",
        "bbs_data = bbs.find_all('div',class_='cont-body')\n",
        "bbs_data[0].get_text().strip()"
      ],
      "execution_count": 103,
      "outputs": [
        {
          "output_type": "execute_result",
          "data": {
            "text/plain": [
              "'IMF 국제통화기금이 \\'코로나19 펜데믹의 영향\\'으로 \\'올해 세계경제 전망\\'에 대해 1930년대 대공항 이후 최악의 경기침체를 겪을 것으로 예상했습니다.\\nIMF는 워싱턴 현지시간으로 오늘(14일) 발표한 \\'세계경제전망 보고서\\'를 통해, 올해 세계경제 성장률은 마이너스(-) 3.0%로, 지난 1월 전망치 보다 무려 6.3%포인트 급락할 것으로 진단했습니다.\\n한국의 경제성장률 전망치에 대해서는 올해 마이너스(-) 1.2%로, 지난 1월 전망치 보다 3.4%포인트 하락시켰습니다.\\nIMF는 올해 한국경제에 대해 \"코로나19 억제를 위한 전방위적 접근과 함께 신속한 경기 대응정책이 국내 경기에 미치는 부정적 영향을 완화했다\"고 평가했습니다.\\n\"다만, 높은 대외개방도를 감안하면, 주요 교역국의 급격한 성장전망 하향이 반영된 내수수요 부진이 성장전망을 제약하고 있다\"고 분석했습니다.\\nIMF가 발표한 주요 국가 경제성장 전망치를 \\'4월 기준\\'과 \\'지난 1월\\'과 비교하면, 미국은 마이너스(-) 5.9%로, 무려 8%포인트 큰 폭으로 떨어졌습니다.\\n또, 일본의 올해 경제성장 전망치는 마이너스 5.2%로, 5.7%포인트, 프랑스는 마이너스 7.2%로, 8.5%포인트, 독일은 마이너스 7%로 8.2%포인트 등으로 큰 폭으로 하락했습니다.\\n\\n\\n\\n\\n\\n\\n\\n\\xa0\\n\\xa0박관우 기자\\xa0\\xa0jw33990@naver.com<저작권자 © BBS불교방송, 무단 전재 및 재배포 금지>'"
            ]
          },
          "metadata": {
            "tags": []
          },
          "execution_count": 103
        }
      ]
    },
    {
      "cell_type": "code",
      "metadata": {
        "id": "IHPih0dEBm3e",
        "colab_type": "code",
        "colab": {
          "base_uri": "https://localhost:8080/",
          "height": 35
        },
        "outputId": "763a3021-be31-4af2-ec6d-973df45fe782"
      },
      "source": [
        "# NewsTitle\n",
        "title=bbs.find_all('span',class_='headline-title')\n",
        "print(title[0].get_text())"
      ],
      "execution_count": 85,
      "outputs": [
        {
          "output_type": "stream",
          "text": [
            "IMF, \"올해, 1930년대 대공항 이후 최악 경기침체 전망\"\n"
          ],
          "name": "stdout"
        }
      ]
    },
    {
      "cell_type": "markdown",
      "metadata": {
        "id": "_TlWzOvSC0cl",
        "colab_type": "text"
      },
      "source": [
        "10. [News Focus] Renault Samsung, GM Korea conclude wage deals, but hurdles remain"
      ]
    },
    {
      "cell_type": "code",
      "metadata": {
        "id": "Fa_FWoB8CMlB",
        "colab_type": "code",
        "colab": {
          "base_uri": "https://localhost:8080/",
          "height": 55
        },
        "outputId": "4a73c32e-c682-4361-c6f7-424b117376ea"
      },
      "source": [
        "# NewsArticle\n",
        "herald = requests.get('http://www.koreaherald.com/view.php?ud=20200415000166&kr=1')\n",
        "herald = BeautifulSoup(herald.content, 'html.parser')\n",
        "herald_data = herald.find_all('div',class_='content_view')\n",
        "herald_data[0].get_text().strip()"
      ],
      "execution_count": 104,
      "outputs": [
        {
          "output_type": "execute_result",
          "data": {
            "text/plain": [
              "'Renault Samsung Motors’ XM3 (Renault Samsung Motors)Renault Samsung Motors and GM Korea have concluded wage deals with unionized workers -- a positive sign for the struggling automotive industry amid the COVID-19 outbreak -- but there are still hurdles, considering the ongoing global economic downturn and unstable management-labor union ties, industry sources said Wednesday.\\xa0According to Renault Samsung, 70.2 percent of the unionized workers voted to accept a wage freeze and cash bonuses of 8.88 million won ($7,320) per person for 2019. Their consensus comes seven months after the unionized workers began protesting in September last year, repeating strikes and factory shutdown.GM Korea said 53.4 percent of unionized workers agreed to a wage settlement, along with additional benefits such as 3 million won-discount on purchasing new GM Korea cars, after five rounds of talks with the management over the past nine months.\\xa0Industry experts said the wage settlements will stall the losses from walkouts.Both the automakers launched new sport utility vehicle models here in the first quarter -- XM3 and Trailblazer, respectively -- which have shown relatively good sales.According to GM Korea, 3,187 units of Trailblazer were sold in March, since its launch in January. It has also been received well in overseas markets, recording 41.5 percent increase in exports at 14,897 units.\\xa0Renault Samsung’s XM3 has also pulled up the automaker’s total domestic sales by 83.7 percent to some 12,000 units -- the first time it has sold over 10,000 units per month since July. An accumulated 20,000 units of XM3 have been sold a month after its launch.\\xa0“While automakers have been tightening their belts to secure profitability, both Renault Samsung and GM Korea have managed to take care of their most urgent problem,” said professor of automotive engineering Kim Pil-soo from Daelim University.\\xa0“While it is unclear when the impact of COVID-19 outbreak will subside, it is important that the management and workers reach an agreement and join hands together to overcome the situation,” he said.\\xa0According to industry insiders, Renault Samsung’s success in resolving the risk of its labor union demands may have increased the opportunity of its Busan plant securing the export volume for XM3 –- which will be named Arkana in overseas markets. Another possible candidate is Renault’s Valladolid factory in Spain.\\xa0After its Busan plant ended production of Nissan’s Rogue SUV in September last year, the main model which took half of the production amount there, there has been no follow-up model to produce for exports.\\xa0But amid factory shutdowns in US and Europe as well as dwindling sales, it remains unclear whether the Busan plant will have export volume allocated for production.\\xa0Renault Group, has closed down a majority of its manufacturing plants globally, including six factories in France. It has also scrapped its recruitment plan to secure cash under emergency management mode.\\xa0As for GM, the management decided to accept part of requests from the labor union, while the workers have also abandoned some of their benefits due to the strained market situation.\\xa0GM Korea CEO Kaher Kazem (left) and GM Korea labor union head Kim Seong-kab (second from left) pose with the Trailblazer during the SUV’s launch event in January. (GM Korea)But the relief may be short-lived, considering that the labor union may raise more requests for a 2020 wage deal, industry sources said.\\xa0“While there have been forecasts that the industry will struggle to recover even during the second quarter this year, the automakers will see a severe market contraction, even worse than during the 2008 financial crisis,” said professor of automotive engineering Lee Ho-geun from Daeduk University.\\xa0By Kim Da-sol\\xa0(ddd@heraldcorp.com)'"
            ]
          },
          "metadata": {
            "tags": []
          },
          "execution_count": 104
        }
      ]
    },
    {
      "cell_type": "code",
      "metadata": {
        "id": "J5YfLyZdCMi3",
        "colab_type": "code",
        "colab": {
          "base_uri": "https://localhost:8080/",
          "height": 35
        },
        "outputId": "8452a767-98c4-4225-eb4d-310675f106b2"
      },
      "source": [
        "# NewsTitle\n",
        "title=herald.find_all('p',class_='fontTitle6 mb16')\n",
        "print(title[0].get_text())"
      ],
      "execution_count": 87,
      "outputs": [
        {
          "output_type": "stream",
          "text": [
            "[News Focus] Renault Samsung, GM Korea conclude wage deals, but hurdles remain\n"
          ],
          "name": "stdout"
        }
      ]
    }
  ]
}