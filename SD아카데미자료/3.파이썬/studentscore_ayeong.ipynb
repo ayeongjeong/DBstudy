{
  "nbformat": 4,
  "nbformat_minor": 0,
  "metadata": {
    "colab": {
      "name": "studentscore_ayeong.ipynb",
      "provenance": [],
      "collapsed_sections": []
    },
    "kernelspec": {
      "name": "python3",
      "display_name": "Python 3"
    }
  },
  "cells": [
    {
      "cell_type": "code",
      "metadata": {
        "id": "w7ifbbHzAQ6A",
        "colab_type": "code",
        "colab": {}
      },
      "source": [
        "#학급 평균, 과목별 평균 구하기 \n",
        "\n",
        "student_score =[\n",
        "                {'num':1,'name':'김철수','kor':90,'eng':80,'math':85},\n",
        "                {'num':2,'name':'박제동','kor':90,'eng':85,'math':90},\n",
        "                {'num':3,'name':'홍길동','kor':80,'eng':80,'math':80}\n",
        "]"
      ],
      "execution_count": 0,
      "outputs": []
    },
    {
      "cell_type": "code",
      "metadata": {
        "id": "6_laHRS4DNT-",
        "colab_type": "code",
        "colab": {}
      },
      "source": [
        "student_score = student_score + [{'num':4,'name':'김영희','kor':85,'eng':90,'math':90}, {'num':5,'name':'정아영','kor':95,'eng':95,'math':95}]"
      ],
      "execution_count": 0,
      "outputs": []
    },
    {
      "cell_type": "code",
      "metadata": {
        "id": "bE38o2fdLji8",
        "colab_type": "code",
        "colab": {}
      },
      "source": [
        "student_score[0][\"total\"]=student_score[0][\"kor\"]+student_score[0][\"eng\"]+student_score[0][\"math\"]\n",
        "student_score[0]['average']=student_score[0]['total']/3\n",
        "student_score[1][\"total\"]=student_score[1][\"kor\"]+student_score[1][\"eng\"]+student_score[1][\"math\"]\n",
        "student_score[1]['average']=student_score[1]['total']/3\n",
        "student_score[2][\"total\"]=student_score[2][\"kor\"]+student_score[2][\"eng\"]+student_score[2][\"math\"]\n",
        "student_score[2]['average']=student_score[2]['total']/3\n",
        "student_score[3][\"total\"]=student_score[3][\"kor\"]+student_score[3][\"eng\"]+student_score[3][\"math\"]\n",
        "student_score[3]['average']=student_score[3]['total']/3\n",
        "student_score[4][\"total\"]=student_score[4][\"kor\"]+student_score[4][\"eng\"]+student_score[4][\"math\"]\n",
        "student_score[4]['average']=student_score[4]['total']/3"
      ],
      "execution_count": 0,
      "outputs": []
    },
    {
      "cell_type": "code",
      "metadata": {
        "id": "uSdLiNYEMDvP",
        "colab_type": "code",
        "outputId": "90c860e7-2ecd-477f-ec16-e2c8b5d94409",
        "colab": {
          "base_uri": "https://localhost:8080/",
          "height": 35
        }
      },
      "source": [
        "total=student_score[0]['total']+student_score[1]['total']+student_score[2]['total']+student_score[3]['total']+student_score[4]['total']\n",
        "print(\"학급평균: \",total/5)"
      ],
      "execution_count": 19,
      "outputs": [
        {
          "output_type": "stream",
          "text": [
            "학급평균:  262.0\n"
          ],
          "name": "stdout"
        }
      ]
    },
    {
      "cell_type": "code",
      "metadata": {
        "id": "d3p0DXrOPZih",
        "colab_type": "code",
        "colab": {
          "base_uri": "https://localhost:8080/",
          "height": 35
        },
        "outputId": "4f21d48d-c0a0-4e80-9d1a-4e4a066547dd"
      },
      "source": [
        "total_kor=student_score[0][\"kor\"]+student_score[1][\"kor\"]+student_score[2][\"kor\"]+student_score[3][\"kor\"]+student_score[4][\"kor\"]\n",
        "print(\"국어평균: \",total_kor/5)"
      ],
      "execution_count": 22,
      "outputs": [
        {
          "output_type": "stream",
          "text": [
            "국어평균:  88.0\n"
          ],
          "name": "stdout"
        }
      ]
    },
    {
      "cell_type": "code",
      "metadata": {
        "id": "-N8Um-Ww7IPI",
        "colab_type": "code",
        "colab": {
          "base_uri": "https://localhost:8080/",
          "height": 35
        },
        "outputId": "57600a4e-18fd-4180-b309-9bdca7854d99"
      },
      "source": [
        "total_eng=student_score[0][\"eng\"]+student_score[1][\"eng\"]+student_score[2][\"eng\"]+student_score[3][\"eng\"]+student_score[4][\"eng\"]\n",
        "print(\"영어평균: \",total_eng/5)"
      ],
      "execution_count": 23,
      "outputs": [
        {
          "output_type": "stream",
          "text": [
            "영어평균:  86.0\n"
          ],
          "name": "stdout"
        }
      ]
    },
    {
      "cell_type": "code",
      "metadata": {
        "id": "ziM50WQ57jUT",
        "colab_type": "code",
        "colab": {
          "base_uri": "https://localhost:8080/",
          "height": 35
        },
        "outputId": "b6338c46-d3bb-4a0d-f75e-099b04de808e"
      },
      "source": [
        "total_math=student_score[0][\"math\"]+student_score[1][\"math\"]+student_score[2][\"math\"]+student_score[3][\"math\"]+student_score[4][\"math\"]\n",
        "print(\"수학평균: \",total_math/5)"
      ],
      "execution_count": 24,
      "outputs": [
        {
          "output_type": "stream",
          "text": [
            "수학평균:  88.0\n"
          ],
          "name": "stdout"
        }
      ]
    },
    {
      "cell_type": "code",
      "metadata": {
        "id": "TyDaYgc67riN",
        "colab_type": "code",
        "colab": {}
      },
      "source": [
        ""
      ],
      "execution_count": 0,
      "outputs": []
    }
  ]
}