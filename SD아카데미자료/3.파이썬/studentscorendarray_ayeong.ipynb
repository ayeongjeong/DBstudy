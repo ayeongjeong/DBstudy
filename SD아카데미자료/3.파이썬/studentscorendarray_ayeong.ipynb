{
  "nbformat": 4,
  "nbformat_minor": 0,
  "metadata": {
    "colab": {
      "name": "studentscorendarray_ayeong.ipynb",
      "provenance": []
    },
    "kernelspec": {
      "name": "python3",
      "display_name": "Python 3"
    }
  },
  "cells": [
    {
      "cell_type": "code",
      "metadata": {
        "id": "QIwUUHPF0_ov",
        "colab_type": "code",
        "colab": {}
      },
      "source": [
        "import numpy as np\n",
        "student_score = np.array([[1, 90, 80, 85, 0, 0.0, 0],[2, 90, 85, 90, 0, 0.0, 0], [3, 80, 80, 80, 0, 0.0, 0]])"
      ],
      "execution_count": 0,
      "outputs": []
    },
    {
      "cell_type": "code",
      "metadata": {
        "id": "f-JK5LsC37yi",
        "colab_type": "code",
        "colab": {
          "base_uri": "https://localhost:8080/",
          "height": 71
        },
        "outputId": "623d1a8b-33f1-4d76-bcc3-3b0b9575c077"
      },
      "source": [
        "for i in range(len(student_score)):     #총점 추가\n",
        "  student_score[i,4] = np.sum(student_score[i,1:4])\n",
        "student_score"
      ],
      "execution_count": 2,
      "outputs": [
        {
          "output_type": "execute_result",
          "data": {
            "text/plain": [
              "array([[  1.,  90.,  80.,  85., 255.,   0.,   0.],\n",
              "       [  2.,  90.,  85.,  90., 265.,   0.,   0.],\n",
              "       [  3.,  80.,  80.,  80., 240.,   0.,   0.]])"
            ]
          },
          "metadata": {
            "tags": []
          },
          "execution_count": 2
        }
      ]
    },
    {
      "cell_type": "code",
      "metadata": {
        "id": "4D_NMVkSOqH0",
        "colab_type": "code",
        "colab": {
          "base_uri": "https://localhost:8080/",
          "height": 125
        },
        "outputId": "970c6ea2-ad23-403e-d911-6f08865de10a"
      },
      "source": [
        "for i in range(len(student_score)):       #평균점수 추가\n",
        "  student_score[i,5] = np.mean(student_score[i,1:4])\n",
        "student_score"
      ],
      "execution_count": 3,
      "outputs": [
        {
          "output_type": "execute_result",
          "data": {
            "text/plain": [
              "array([[  1.        ,  90.        ,  80.        ,  85.        ,\n",
              "        255.        ,  85.        ,   0.        ],\n",
              "       [  2.        ,  90.        ,  85.        ,  90.        ,\n",
              "        265.        ,  88.33333333,   0.        ],\n",
              "       [  3.        ,  80.        ,  80.        ,  80.        ,\n",
              "        240.        ,  80.        ,   0.        ]])"
            ]
          },
          "metadata": {
            "tags": []
          },
          "execution_count": 3
        }
      ]
    },
    {
      "cell_type": "code",
      "metadata": {
        "id": "kWhqx1qCO8F7",
        "colab_type": "code",
        "colab": {
          "base_uri": "https://localhost:8080/",
          "height": 35
        },
        "outputId": "4df06afb-ad04-4c5c-a9a6-95b67cace21b"
      },
      "source": [
        "kor_avg = np.mean(student_score[:,1])\n",
        "eng_avg = np.mean(student_score[:,2])\n",
        "math_avg = np.mean(student_score[:,3])\n",
        "\n",
        "print(\"국어평균: \",kor_avg,\"영어평균: \",eng_avg,\"수학평균: \",math_avg)"
      ],
      "execution_count": 7,
      "outputs": [
        {
          "output_type": "stream",
          "text": [
            "국어평균:  86.66666666666667 영어평균:  81.66666666666667 수학평균:  85.0\n"
          ],
          "name": "stdout"
        }
      ]
    },
    {
      "cell_type": "code",
      "metadata": {
        "id": "qmTQORZ3RyVu",
        "colab_type": "code",
        "colab": {
          "base_uri": "https://localhost:8080/",
          "height": 35
        },
        "outputId": "3811127a-ce1d-4205-d501-b00a6bca7924"
      },
      "source": [
        "print(\"학급평균: \", np.mean(student_score[:,5]))"
      ],
      "execution_count": 9,
      "outputs": [
        {
          "output_type": "stream",
          "text": [
            "학급평균:  84.44444444444444\n"
          ],
          "name": "stdout"
        }
      ]
    },
    {
      "cell_type": "code",
      "metadata": {
        "id": "r1IWbzTbSUSl",
        "colab_type": "code",
        "colab": {}
      },
      "source": [
        ""
      ],
      "execution_count": 0,
      "outputs": []
    }
  ]
}