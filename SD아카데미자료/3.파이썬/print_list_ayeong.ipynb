{
  "nbformat": 4,
  "nbformat_minor": 0,
  "metadata": {
    "colab": {
      "name": "print_list_ayeong.ipynb",
      "provenance": []
    },
    "kernelspec": {
      "name": "python3",
      "display_name": "Python 3"
    }
  },
  "cells": [
    {
      "cell_type": "code",
      "metadata": {
        "id": "xwgNqdBtce7N",
        "colab_type": "code",
        "colab": {}
      },
      "source": [
        "movies= [\"The Holy Grail\", \"The Life of Brain\", \"The Meaning of Life\"]\n",
        "\n",
        "def print_list (list):\n",
        "  for i in list:\n",
        "    print(i)\n",
        "  return;\n"
      ],
      "execution_count": 0,
      "outputs": []
    },
    {
      "cell_type": "code",
      "metadata": {
        "id": "5jUkgoKuc-KN",
        "colab_type": "code",
        "colab": {
          "base_uri": "https://localhost:8080/",
          "height": 71
        },
        "outputId": "1732581d-2174-4cd3-f052-9f70a06a1f66"
      },
      "source": [
        "print_list(movies)"
      ],
      "execution_count": 7,
      "outputs": [
        {
          "output_type": "stream",
          "text": [
            "The Holy Grail\n",
            "The Life of Brain\n",
            "The Meaning of Life\n"
          ],
          "name": "stdout"
        }
      ]
    },
    {
      "cell_type": "code",
      "metadata": {
        "id": "AoOt6ECodzna",
        "colab_type": "code",
        "colab": {}
      },
      "source": [
        ""
      ],
      "execution_count": 0,
      "outputs": []
    }
  ]
}