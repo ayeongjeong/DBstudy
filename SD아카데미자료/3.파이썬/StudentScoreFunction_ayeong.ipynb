{
  "nbformat": 4,
  "nbformat_minor": 0,
  "metadata": {
    "colab": {
      "name": "StudentScoreFunction_ayeong.ipynb",
      "provenance": [],
      "collapsed_sections": []
    },
    "kernelspec": {
      "name": "python3",
      "display_name": "Python 3"
    }
  },
  "cells": [
    {
      "cell_type": "code",
      "metadata": {
        "id": "Jv_jj6QFap9O",
        "colab_type": "code",
        "colab": {}
      },
      "source": [
        "student_score =[\n",
        "                {'num':1,'name':'김철수','kor':90,'eng':80,'math':85},\n",
        "                {'num':2,'name':'박제동','kor':90,'eng':85,'math':90},\n",
        "                {'num':3,'name':'홍길동','kor':80,'eng':80,'math':80}\n",
        "]\n",
        "\n",
        "student_score = student_score + [{'num':4,'name':'김영희','kor':85,'eng':90,'math':90}, {'num':5,'name':'정아영','kor':95,'eng':95,'math':95}]     #2명추가"
      ],
      "execution_count": 0,
      "outputs": []
    },
    {
      "cell_type": "code",
      "metadata": {
        "id": "tyBSLDGBdPp1",
        "colab_type": "code",
        "colab": {}
      },
      "source": [
        "def stu_total(s_score):       #구성원 total 추가\n",
        "  for i in range(len(s_score)):\n",
        "    s_score[i]['total']=s_score[i]['kor'] + s_score[i]['eng'] + s_score[i]['math']\n",
        "  return s_score;\n",
        "\n",
        "def stu_avg(s_score):       #구성원 average 추가\n",
        "  for i in range(len(s_score)):\n",
        "    s_score[i]['avg']=s_score[i]['total']/3\n",
        "  return s_score;\n",
        "\n",
        "\n",
        "stu_total(student_score)\n",
        "stu_avg(student_score)"
      ],
      "execution_count": 0,
      "outputs": []
    },
    {
      "cell_type": "code",
      "metadata": {
        "id": "ziy4uMvNhobc",
        "colab_type": "code",
        "colab": {
          "base_uri": "https://localhost:8080/",
          "height": 89
        },
        "outputId": "dc650c85-7817-437e-b51b-57bfbda259d1"
      },
      "source": [
        "def class_avg(c_score):\n",
        "  c_score = student_score[0]['total']+student_score[1]['total']+student_score[2]['total']+student_score[3]['total']+student_score[4]['total']\n",
        "  print(\"학급평균: \", c_score/5)\n",
        "  return ;\n",
        "\n",
        "class_avg(student_score)      #학급평균 출력 \n",
        "\n",
        "def kor_avg(c_score):\n",
        "  c_score = student_score[0]['kor']+student_score[1]['kor']+student_score[2]['kor']+student_score[3]['kor']+student_score[4]['kor']\n",
        "  print(\"국어평균: \", c_score/5)\n",
        "  return ;\n",
        "\n",
        "kor_avg(student_score)      #국어 평균 출력 \n",
        "\n",
        "def eng_avg(c_score):\n",
        "  c_score = student_score[0]['eng']+student_score[1]['eng']+student_score[2]['eng']+student_score[3]['eng']+student_score[4]['eng']\n",
        "  print(\"영어평균: \", c_score/5)\n",
        "  return ;\n",
        "\n",
        "eng_avg(student_score)      #영어 평균 출력 \n",
        "\n",
        "def math_avg(c_score):\n",
        "  c_score = student_score[0]['math']+student_score[1]['math']+student_score[2]['math']+student_score[3]['math']+student_score[4]['math']\n",
        "  print(\"수학평균: \",c_score/5)\n",
        "  return ;\n",
        "\n",
        "math_avg(student_score)      #수학평균 출력 "
      ],
      "execution_count": 32,
      "outputs": [
        {
          "output_type": "stream",
          "text": [
            "학급평균:  262.0\n",
            "국어평균:  88.0\n",
            "영어평균:  86.0\n",
            "수학평균:  88.0\n"
          ],
          "name": "stdout"
        }
      ]
    },
    {
      "cell_type": "code",
      "metadata": {
        "id": "LmRqzvSWjSsk",
        "colab_type": "code",
        "colab": {}
      },
      "source": [
        ""
      ],
      "execution_count": 0,
      "outputs": []
    }
  ]
}