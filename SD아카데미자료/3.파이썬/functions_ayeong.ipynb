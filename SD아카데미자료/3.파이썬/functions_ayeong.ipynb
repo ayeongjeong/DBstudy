{
  "nbformat": 4,
  "nbformat_minor": 0,
  "metadata": {
    "colab": {
      "name": "functions_ayeong.ipynb",
      "provenance": []
    },
    "kernelspec": {
      "name": "python3",
      "display_name": "Python 3"
    }
  },
  "cells": [
    {
      "cell_type": "code",
      "metadata": {
        "id": "agm4gV1rictV",
        "colab_type": "code",
        "colab": {
          "base_uri": "https://localhost:8080/",
          "height": 53
        },
        "outputId": "d00a11e2-23f4-4cb9-e2a8-ada9376632e7"
      },
      "source": [
        "def sum_num (num):\n",
        "  sum=int(num[0])+int(num[1])         #더하기\n",
        "  print(\"inside the function: \", sum)\n",
        "  return;\n",
        "\n",
        "sum_num(input(\"input two Number? \").split(','))\n"
      ],
      "execution_count": 36,
      "outputs": [
        {
          "output_type": "stream",
          "text": [
            "input two Number? 30,15\n",
            "inside the function:  45\n"
          ],
          "name": "stdout"
        }
      ]
    },
    {
      "cell_type": "code",
      "metadata": {
        "id": "K3VC0B0B2pJk",
        "colab_type": "code",
        "colab": {
          "base_uri": "https://localhost:8080/",
          "height": 53
        },
        "outputId": "b918fc04-33f0-438b-f91c-3a9382d6b526"
      },
      "source": [
        "def min_num (num):\n",
        "  min=int(num[0])-int(num[1])         #빼기\n",
        "  print(\"inside the function: \", min)\n",
        "  return;\n",
        "\n",
        "min_num(input(\"input two Number? \").split(','))"
      ],
      "execution_count": 37,
      "outputs": [
        {
          "output_type": "stream",
          "text": [
            "input two Number? 30,15\n",
            "inside the function:  15\n"
          ],
          "name": "stdout"
        }
      ]
    },
    {
      "cell_type": "code",
      "metadata": {
        "id": "acU2c1df716f",
        "colab_type": "code",
        "colab": {
          "base_uri": "https://localhost:8080/",
          "height": 53
        },
        "outputId": "cb207e04-be33-457f-9ae7-0e929c9d61ec"
      },
      "source": [
        "def mul_num (num):\n",
        "  mul=int(num[0])*int(num[1])         #곱하기\n",
        "  print(\"inside the function: \", mul)\n",
        "  return;\n",
        "\n",
        "mul_num(input(\"input two Number? \").split(','))"
      ],
      "execution_count": 38,
      "outputs": [
        {
          "output_type": "stream",
          "text": [
            "input two Number? 3,2\n",
            "inside the function:  6\n"
          ],
          "name": "stdout"
        }
      ]
    },
    {
      "cell_type": "code",
      "metadata": {
        "id": "bb1V-mTz8Ekg",
        "colab_type": "code",
        "colab": {
          "base_uri": "https://localhost:8080/",
          "height": 53
        },
        "outputId": "aab93a0f-0587-4d79-b9e6-e661cbb9c9f0"
      },
      "source": [
        "def div_num (num):\n",
        "  div=int(num[0])/int(num[1])         #나누기\n",
        "  print(\"inside the function: \", div)\n",
        "  return;\n",
        "\n",
        "div_num(input(\"input two Number? \").split(','))"
      ],
      "execution_count": 39,
      "outputs": [
        {
          "output_type": "stream",
          "text": [
            "input two Number? 30,2\n",
            "inside the function:  15.0\n"
          ],
          "name": "stdout"
        }
      ]
    }
  ]
}